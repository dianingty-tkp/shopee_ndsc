{
 "cells": [
  {
   "cell_type": "code",
   "execution_count": null,
   "metadata": {
    "colab": {},
    "colab_type": "code",
    "id": "fb-f7kyAuEiO",
    "scrolled": true
   },
   "outputs": [],
   "source": [
    "import re  # For preprocessing\n",
    "import pandas as pd  # For data handling\n",
    "from time import time  # To time our operations\n",
    "from collections import defaultdict  # For word frequency\n",
    "from gensim.models import Word2Vec\n",
    "import gensim.models as models\n",
    "\n",
    "from statistics import mean, stdev, median"
   ]
  },
  {
   "cell_type": "code",
   "execution_count": null,
   "metadata": {
    "colab": {},
    "colab_type": "code",
    "id": "u4sKrUzOuEiY"
   },
   "outputs": [],
   "source": [
    "import logging  # Setting up the loggings to monitor gensim\n",
    "logging.basicConfig(format=\"%(levelname)s - %(asctime)s: %(message)s\", datefmt= '%H:%M:%S', level=logging.INFO)"
   ]
  },
  {
   "cell_type": "code",
   "execution_count": null,
   "metadata": {
    "colab": {
     "base_uri": "https://localhost:8080/",
     "height": 122
    },
    "colab_type": "code",
    "executionInfo": {
     "elapsed": 30403,
     "status": "ok",
     "timestamp": 1580119569033,
     "user": {
      "displayName": "Dian Ayuningtyas",
      "photoUrl": "",
      "userId": "18409273411722555442"
     },
     "user_tz": -420
    },
    "id": "lRYNE-uiu1gG",
    "outputId": "0320fa2a-e00b-46fc-e55f-44da70a447dc"
   },
   "outputs": [],
   "source": [
    "# mount drive\n",
    "# use it only when you run on google collab\n",
    "\n",
    "from google.colab import drive\n",
    "\n",
    "drive.mount(\"/content/gdrive\")"
   ]
  },
  {
   "cell_type": "code",
   "execution_count": null,
   "metadata": {
    "colab": {},
    "colab_type": "code",
    "id": "wjJSXlAiuEic"
   },
   "outputs": [],
   "source": [
    "titles = pd.read_csv('../../data/data.csv')"
   ]
  },
  {
   "cell_type": "code",
   "execution_count": null,
   "metadata": {
    "colab": {
     "base_uri": "https://localhost:8080/",
     "height": 204
    },
    "colab_type": "code",
    "executionInfo": {
     "elapsed": 1240,
     "status": "ok",
     "timestamp": 1580119662379,
     "user": {
      "displayName": "Dian Ayuningtyas",
      "photoUrl": "",
      "userId": "18409273411722555442"
     },
     "user_tz": -420
    },
    "id": "3712irkuuEiq",
    "outputId": "31826941-9fff-4146-cbb1-3ec45e6678c4"
   },
   "outputs": [],
   "source": [
    "titles.head()"
   ]
  },
  {
   "cell_type": "markdown",
   "metadata": {
    "colab_type": "text",
    "id": "S_m8-fRluEiu"
   },
   "source": [
    "# Remove characters and parse"
   ]
  },
  {
   "cell_type": "code",
   "execution_count": null,
   "metadata": {
    "colab": {},
    "colab_type": "code",
    "id": "4CuUS2mnuEiv"
   },
   "outputs": [],
   "source": [
    "def prep(product_name) :\n",
    "    clean = product_name.apply(lambda x : re.sub(\"[^A-Za-z0-9]+\", ' ', str(x)).lower())\n",
    "    words_total = []\n",
    "    for product in clean :\n",
    "        words = product.split()\n",
    "        if len(words) != 0 :\n",
    "            words_total.append(words)\n",
    "    return words_total"
   ]
  },
  {
   "cell_type": "code",
   "execution_count": null,
   "metadata": {
    "colab": {
     "base_uri": "https://localhost:8080/",
     "height": 1000
    },
    "colab_type": "code",
    "executionInfo": {
     "elapsed": 1041,
     "status": "ok",
     "timestamp": 1580119667712,
     "user": {
      "displayName": "Dian Ayuningtyas",
      "photoUrl": "",
      "userId": "18409273411722555442"
     },
     "user_tz": -420
    },
    "id": "aQp59HMFuEiy",
    "outputId": "ff284434-a44e-4a8b-e50a-687acf8912d8",
    "scrolled": true
   },
   "outputs": [],
   "source": [
    "words = prep(titles['titles'])\n",
    "words[0:20]"
   ]
  },
  {
   "cell_type": "code",
   "execution_count": null,
   "metadata": {
    "colab": {
     "base_uri": "https://localhost:8080/",
     "height": 34
    },
    "colab_type": "code",
    "executionInfo": {
     "elapsed": 1894,
     "status": "ok",
     "timestamp": 1573530723211,
     "user": {
      "displayName": "Dian Ayuningtyas",
      "photoUrl": "",
      "userId": "18409273411722555442"
     },
     "user_tz": -420
    },
    "id": "CVCqRVuhuEi8",
    "outputId": "fb6d8b37-0d04-49f9-80a1-591f5e8b91e7"
   },
   "outputs": [],
   "source": [
    "word_freq = defaultdict(int)\n",
    "for sent in words:\n",
    "    for i in sent:\n",
    "        word_freq[i] += 1\n",
    "len(word_freq)"
   ]
  },
  {
   "cell_type": "code",
   "execution_count": null,
   "metadata": {
    "colab": {},
    "colab_type": "code",
    "id": "Cv6VZlYQuEi_"
   },
   "outputs": [],
   "source": [
    "print('Statistics of Word Frequencies')\n",
    "print('Mean : ', str(mean(list(word_freq.values()))))\n",
    "print('Median : ', str(median(list(word_freq.values()))))\n",
    "print('Stdev : ', str(stdev(list(word_freq.values()))))\n",
    "print('Max : ', str(max(list(word_freq.values()))))\n",
    "print('Min : ', str(min(list(word_freq.values()))))"
   ]
  },
  {
   "cell_type": "code",
   "execution_count": null,
   "metadata": {
    "colab": {},
    "colab_type": "code",
    "id": "45vjPEXWuEjE"
   },
   "outputs": [],
   "source": [
    "length = []\n",
    "for a in words :\n",
    "    length.append(len(a))"
   ]
  },
  {
   "cell_type": "code",
   "execution_count": null,
   "metadata": {
    "colab": {},
    "colab_type": "code",
    "id": "W3jzKEFJuEjK"
   },
   "outputs": [],
   "source": [
    "print('Statistics of Product Name Length')\n",
    "print('Mean : ', str(mean(length)))\n",
    "print('Median : ', str(median(length)))\n",
    "print('Stdev : ', str(stdev(length)))\n",
    "print('Max : ', str(max(length)))\n",
    "print('Min : ', str(min(length)))"
   ]
  },
  {
   "cell_type": "markdown",
   "metadata": {
    "colab_type": "text",
    "id": "rshZ81OhuEjO"
   },
   "source": [
    "# Word2Vec"
   ]
  },
  {
   "cell_type": "code",
   "execution_count": null,
   "metadata": {
    "colab": {},
    "colab_type": "code",
    "id": "-sPNM_VCuEjP"
   },
   "outputs": [],
   "source": [
    "w2v = Word2Vec(min_count=1,\n",
    "                     window=3,\n",
    "                     size=300)"
   ]
  },
  {
   "cell_type": "code",
   "execution_count": null,
   "metadata": {
    "colab": {},
    "colab_type": "code",
    "id": "h_-NRu5keN8t"
   },
   "outputs": [],
   "source": [
    "w2v.build_vocab()"
   ]
  },
  {
   "cell_type": "code",
   "execution_count": null,
   "metadata": {
    "colab": {},
    "colab_type": "code",
    "id": "HUnDzGaUuEjS"
   },
   "outputs": [],
   "source": [
    "t = time()\n",
    "\n",
    "w2v.build_vocab(words, progress_per=1000)\n",
    "\n",
    "print('Time to build vocab: {} mins'.format(round((time() - t) / 60, 2)))"
   ]
  },
  {
   "cell_type": "code",
   "execution_count": null,
   "metadata": {
    "colab": {
     "base_uri": "https://localhost:8080/",
     "height": 34
    },
    "colab_type": "code",
    "executionInfo": {
     "elapsed": 1231,
     "status": "ok",
     "timestamp": 1573530828843,
     "user": {
      "displayName": "Dian Ayuningtyas",
      "photoUrl": "",
      "userId": "18409273411722555442"
     },
     "user_tz": -420
    },
    "id": "Ga0trkIxvfPA",
    "outputId": "6669a692-ca9e-4c0e-b663-f2885b79917b"
   },
   "outputs": [],
   "source": [
    "# number of vocabs\n",
    "len(w2v.wv.index2word)"
   ]
  },
  {
   "cell_type": "code",
   "execution_count": null,
   "metadata": {
    "colab": {},
    "colab_type": "code",
    "id": "yXmDlVOjuEjV"
   },
   "outputs": [],
   "source": [
    "t = time()\n",
    "\n",
    "w2v.train(words, total_examples=w2v.corpus_count, epochs=50)"
   ]
  },
  {
   "cell_type": "code",
   "execution_count": null,
   "metadata": {
    "colab": {},
    "colab_type": "code",
    "id": "V7Vl1RavuEjZ",
    "outputId": "38ee66c7-75e3-416b-a4cd-0978d5cc2f9a",
    "scrolled": true
   },
   "outputs": [],
   "source": [
    "w2v.init_sims(replace=True)"
   ]
  },
  {
   "cell_type": "markdown",
   "metadata": {
    "colab_type": "text",
    "id": "ci7ZFcyyuEjd"
   },
   "source": [
    "## Checking word2vec result"
   ]
  },
  {
   "cell_type": "code",
   "execution_count": null,
   "metadata": {
    "colab": {},
    "colab_type": "code",
    "id": "COI7qV2FuEje",
    "outputId": "755f5a89-f8ef-47ed-d72a-1b5397f3caed",
    "scrolled": true
   },
   "outputs": [],
   "source": [
    "w2v.wv.most_similar(positive=['baju'])"
   ]
  },
  {
   "cell_type": "markdown",
   "metadata": {},
   "source": [
    "## Save w2v"
   ]
  },
  {
   "cell_type": "code",
   "execution_count": null,
   "metadata": {
    "colab": {},
    "colab_type": "code",
    "id": "qy-I6idluEj2",
    "outputId": "4ca123d2-9330-4a6d-db80-ac43adaa18be",
    "scrolled": true
   },
   "outputs": [],
   "source": [
    "w2v.save('w2v_result.wv')"
   ]
  }
 ],
 "metadata": {
  "colab": {
   "name": "Preprocessing & word2vec.ipynb",
   "provenance": []
  },
  "kernelspec": {
   "display_name": "Python 3",
   "language": "python",
   "name": "python3"
  },
  "language_info": {
   "codemirror_mode": {
    "name": "ipython",
    "version": 3
   },
   "file_extension": ".py",
   "mimetype": "text/x-python",
   "name": "python",
   "nbconvert_exporter": "python",
   "pygments_lexer": "ipython3",
   "version": "3.8.5"
  }
 },
 "nbformat": 4,
 "nbformat_minor": 1
}
